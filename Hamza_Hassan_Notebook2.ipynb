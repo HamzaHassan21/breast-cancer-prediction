{
  "nbformat": 4,
  "nbformat_minor": 0,
  "metadata": {
    "colab": {
      "provenance": []
    },
    "kernelspec": {
      "name": "python3",
      "display_name": "Python 3"
    },
    "language_info": {
      "name": "python"
    }
  },
  "cells": [
    {
      "cell_type": "code",
      "source": [
        "# MODULE: (2024) 5DATA002W.2 Machine Learning and Data Mining\n",
        "# Hamza Hassan W2044381\n",
        "# Python Notebook 2\n",
        "# Classification and Hyperparameters Tuning\n",
        "\n",
        "# Key reminder - I changed some varaible names Tumor_Size - Tumor_Load, Survival_Months - Progression_Free_Months, Mortality_Status - Survival_Status\n",
        "# Sex - Gender, Progesterone_Status - Progesterone_Levels, Estrogen_Status - Estrogen_Levels, Occupation - Profession, Month_Of_Birth - Birth_Month\n",
        "\n",
        "# My Notebook 2 was reviewed by Riya (W2036372) and Yusuf (W2040640) on 31st March 2025 at 12:16 PM in the Cavendish Library.\n",
        "# They both gave feedback on the following parts of my Python Notebook 2:\n",
        "\n",
        "# They checked if my model implementations (Logistic Regression, KNN, and Naive Bayes) were done correctly and followed the expected structure.\n",
        "\n",
        "# They reviewed how I used evaluation metrics like recall, F1-score, and AUC, and whether they matched the success criteria from the brief.\n",
        "\n",
        "# They also looked at how I applied cross-validation (GridSearchCV) for my Logistic Regression model to make sure I tuned it properly.\n"
      ],
      "metadata": {
        "id": "kihXckCaNWzj"
      },
      "execution_count": 75,
      "outputs": []
    },
    {
      "cell_type": "markdown",
      "source": [
        "# BEGINNING FROM IMPORTING LIBRAIRES UNTIL FEATURE COLUMNS FOR SURVIVAL STATUS"
      ],
      "metadata": {
        "id": "cL5UweIBvpcT"
      }
    },
    {
      "cell_type": "markdown",
      "source": [
        "Code Reuse Session 2 - Step 1 and other key steps in the code reuse - In this section, I imported all the libraries needed for building and evaluating machine learning models. These include tools for data handling (pandas, numpy), model building (like Logistic Regression, KNN, Naive Bayes), model evaluation (accuracy, confusion matrix, classification report), visualizations (matplotlib), and hyperparameter tuning (GridSearchCV)."
      ],
      "metadata": {
        "id": "UjXkCFUY5CiK"
      }
    },
    {
      "cell_type": "code",
      "source": [
        "# Importing all of the required libraries needed for the notebook\n",
        "\n",
        "import pandas as pd  # I'm using pandas to work with the dataset in table format\n",
        "from sklearn.model_selection import train_test_split  # To split the data into training and test sets\n",
        "from sklearn.linear_model import LogisticRegression  # I'm importing Logistic Regression as one of the models\n",
        "import matplotlib.pyplot as plt  # For plotting graphs and visualizations\n",
        "import numpy as np  # Useful for numerical operations and working with arrays\n",
        "from sklearn.neighbors import KNeighborsClassifier  # Importing KNN model for classification\n",
        "from sklearn.naive_bayes import GaussianNB  # Using the Naive Bayes model for comparison\n",
        "from sklearn.metrics import accuracy_score, confusion_matrix, ConfusionMatrixDisplay  # To evaluate how well the model performs\n",
        "from sklearn.metrics import classification_report  # Gives a detailed report including precision, recall, and F1 score\n",
        "from sklearn.metrics import RocCurveDisplay  # To visualize the ROC curve for model performance\n",
        "from sklearn.model_selection import GridSearchCV  # For tuning model parameters using grid search and cross-validation\n"
      ],
      "metadata": {
        "id": "58k3avfqNnRK"
      },
      "execution_count": 76,
      "outputs": []
    },
    {
      "cell_type": "markdown",
      "source": [
        "Code Reuse Session 2 - Step 2 Loading the Breast Cancer Dataset - This line of code loads the cleaned breast cancer dataset from a CSV file into a pandas DataFrame. By using pd.read_csv(), I’m bringing the data into my notebook so I can start working with it—analyzing patterns, building classification models, and tuning hyperparameters for better prediction accuracy"
      ],
      "metadata": {
        "id": "DrRvJJTN59EK"
      }
    },
    {
      "cell_type": "code",
      "source": [
        "# Loading the Breast Cancer dataset\n",
        "patients = pd.read_csv('/content/CleanedBreastCancerDataset (3).csv')"
      ],
      "metadata": {
        "id": "hU5MoUt4XKAs"
      },
      "execution_count": 77,
      "outputs": []
    },
    {
      "cell_type": "markdown",
      "source": [
        "Tutorial 1 Part G Page 37 - Before starting any classification models in Notebook 2, I decided to standardize all the numerical features. Since I’m using Logistic Regression, I know it works better when the input features are on the same scale. This is because it's sensitive to the size and range of the values, and unscaled data can affect how well the model learns. I followed the steps from Tutorial 1 Part G (Page 37), which showed how standardization helps when working with models like Logistic Regression that rely on gradients."
      ],
      "metadata": {
        "id": "4-9zLIAuk-Hc"
      }
    },
    {
      "cell_type": "code",
      "source": [
        "# I’m importing StandardScaler to scale my data. This helps make sure all features have the same scale, which is important for models like KNN or logistic regression.\n",
        "from sklearn.preprocessing import StandardScaler\n",
        "\n",
        "# I'm picking only the numeric columns (except Survival_Status) to scale them properly\n",
        "numeric_cols = patients.select_dtypes(include=['float64', 'int64']).drop(columns=['Survival_Status']).columns\n",
        "\n",
        "# Setting up StandardScaler to make sure all numeric features are on the same scale\n",
        "scaler = StandardScaler()\n",
        "\n",
        "# Applying the scaler to standardize the selected numeric columns\n",
        "patients[numeric_cols] = scaler.fit_transform(patients[numeric_cols])"
      ],
      "metadata": {
        "id": "qWAZFyH1kc63"
      },
      "execution_count": 78,
      "outputs": []
    },
    {
      "cell_type": "markdown",
      "source": [
        "Code Reuse Session 2 - Step 3 - Showing a Quick Sample of patients in the dataset to gives a quick snapshot of what the data looks like—kind of like getting an overview before diving deeper. It helps to see if everything is in order and if the columns and rows make sense"
      ],
      "metadata": {
        "id": "wzZYetwV6Y45"
      }
    },
    {
      "cell_type": "code",
      "source": [
        "# Quickly displaying a Sample of Patients in the Dataset\n",
        "patients.head(15)"
      ],
      "metadata": {
        "colab": {
          "base_uri": "https://localhost:8080/",
          "height": 520
        },
        "collapsed": true,
        "id": "1J4l28AIXMRp",
        "outputId": "aaadab60-c030-4b25-b539-f296bbbde29a"
      },
      "execution_count": 79,
      "outputs": [
        {
          "output_type": "execute_result",
          "data": {
            "text/plain": [
              "         Age   N_Stage  6th_Stage     Grade  Tumor_Load  Estrogen_Levels  Progesterone_Levels  Progression_Free_Months  Survival_Status\n",
              "0   1.565163 -0.631481  -1.043469  1.330020   -1.253953         0.267867             0.458123                -0.493087                1\n",
              "1  -0.445437  0.812623   0.537473 -0.237141    0.215461         0.267867             0.458123                -0.405822                1\n",
              "2   0.448163  2.256727   2.118415 -0.237141    1.542673         0.267867             0.458123                 0.161401                1\n",
              "3   0.448163 -0.631481  -1.043469  1.330020   -0.590347         0.267867             0.458123                 0.554095                1\n",
              "4  -0.780537 -0.631481  -0.252998  1.330020    0.499863         0.267867             0.458123                -0.929413                1\n",
              "5  -0.333737 -0.631481  -1.043469 -0.237141   -0.495546         0.267867             0.458123                 0.772258                1\n",
              "6  -0.333737 -0.631481  -1.043469 -1.804302   -1.064351         0.267867             0.458123                -0.754883                1\n",
              "7  -1.562436 -0.631481  -0.252998 -0.237141   -0.021541         0.267867             0.458123                -2.500186                0\n",
              "8  -1.562436  2.256727   2.118415  1.330020    3.438690         0.267867             0.458123                -0.056761                1\n",
              "9   1.676863  2.256727   2.118415 -1.804302    0.073260         0.267867             0.458123                 0.903155                1\n",
              "10  1.565163 -0.631481  -1.043469 -0.237141   -0.827349         0.267867             0.458123                -0.318557                0\n",
              "11 -0.892237 -0.631481   0.537473  1.330020    1.353071        -3.733203            -2.182821                 0.903155                1\n",
              "12  1.230063 -0.631481  -0.252998  1.330020    0.215461         0.267867             0.458123                -0.667618                1\n",
              "13 -0.668837  0.812623   0.537473  1.330020   -0.732548         0.267867             0.458123                -1.453004                1\n",
              "14  0.894963  2.256727   2.118415 -0.237141    0.215461         0.267867             0.458123                -0.318557                1"
            ],
            "text/html": [
              "\n",
              "  <div id=\"df-65a499d0-3c88-4bff-8fb1-5c8a53d504f6\" class=\"colab-df-container\">\n",
              "    <div>\n",
              "<style scoped>\n",
              "    .dataframe tbody tr th:only-of-type {\n",
              "        vertical-align: middle;\n",
              "    }\n",
              "\n",
              "    .dataframe tbody tr th {\n",
              "        vertical-align: top;\n",
              "    }\n",
              "\n",
              "    .dataframe thead th {\n",
              "        text-align: right;\n",
              "    }\n",
              "</style>\n",
              "<table border=\"1\" class=\"dataframe\">\n",
              "  <thead>\n",
              "    <tr style=\"text-align: right;\">\n",
              "      <th></th>\n",
              "      <th>Age</th>\n",
              "      <th>N_Stage</th>\n",
              "      <th>6th_Stage</th>\n",
              "      <th>Grade</th>\n",
              "      <th>Tumor_Load</th>\n",
              "      <th>Estrogen_Levels</th>\n",
              "      <th>Progesterone_Levels</th>\n",
              "      <th>Progression_Free_Months</th>\n",
              "      <th>Survival_Status</th>\n",
              "    </tr>\n",
              "  </thead>\n",
              "  <tbody>\n",
              "    <tr>\n",
              "      <th>0</th>\n",
              "      <td>1.565163</td>\n",
              "      <td>-0.631481</td>\n",
              "      <td>-1.043469</td>\n",
              "      <td>1.330020</td>\n",
              "      <td>-1.253953</td>\n",
              "      <td>0.267867</td>\n",
              "      <td>0.458123</td>\n",
              "      <td>-0.493087</td>\n",
              "      <td>1</td>\n",
              "    </tr>\n",
              "    <tr>\n",
              "      <th>1</th>\n",
              "      <td>-0.445437</td>\n",
              "      <td>0.812623</td>\n",
              "      <td>0.537473</td>\n",
              "      <td>-0.237141</td>\n",
              "      <td>0.215461</td>\n",
              "      <td>0.267867</td>\n",
              "      <td>0.458123</td>\n",
              "      <td>-0.405822</td>\n",
              "      <td>1</td>\n",
              "    </tr>\n",
              "    <tr>\n",
              "      <th>2</th>\n",
              "      <td>0.448163</td>\n",
              "      <td>2.256727</td>\n",
              "      <td>2.118415</td>\n",
              "      <td>-0.237141</td>\n",
              "      <td>1.542673</td>\n",
              "      <td>0.267867</td>\n",
              "      <td>0.458123</td>\n",
              "      <td>0.161401</td>\n",
              "      <td>1</td>\n",
              "    </tr>\n",
              "    <tr>\n",
              "      <th>3</th>\n",
              "      <td>0.448163</td>\n",
              "      <td>-0.631481</td>\n",
              "      <td>-1.043469</td>\n",
              "      <td>1.330020</td>\n",
              "      <td>-0.590347</td>\n",
              "      <td>0.267867</td>\n",
              "      <td>0.458123</td>\n",
              "      <td>0.554095</td>\n",
              "      <td>1</td>\n",
              "    </tr>\n",
              "    <tr>\n",
              "      <th>4</th>\n",
              "      <td>-0.780537</td>\n",
              "      <td>-0.631481</td>\n",
              "      <td>-0.252998</td>\n",
              "      <td>1.330020</td>\n",
              "      <td>0.499863</td>\n",
              "      <td>0.267867</td>\n",
              "      <td>0.458123</td>\n",
              "      <td>-0.929413</td>\n",
              "      <td>1</td>\n",
              "    </tr>\n",
              "    <tr>\n",
              "      <th>5</th>\n",
              "      <td>-0.333737</td>\n",
              "      <td>-0.631481</td>\n",
              "      <td>-1.043469</td>\n",
              "      <td>-0.237141</td>\n",
              "      <td>-0.495546</td>\n",
              "      <td>0.267867</td>\n",
              "      <td>0.458123</td>\n",
              "      <td>0.772258</td>\n",
              "      <td>1</td>\n",
              "    </tr>\n",
              "    <tr>\n",
              "      <th>6</th>\n",
              "      <td>-0.333737</td>\n",
              "      <td>-0.631481</td>\n",
              "      <td>-1.043469</td>\n",
              "      <td>-1.804302</td>\n",
              "      <td>-1.064351</td>\n",
              "      <td>0.267867</td>\n",
              "      <td>0.458123</td>\n",
              "      <td>-0.754883</td>\n",
              "      <td>1</td>\n",
              "    </tr>\n",
              "    <tr>\n",
              "      <th>7</th>\n",
              "      <td>-1.562436</td>\n",
              "      <td>-0.631481</td>\n",
              "      <td>-0.252998</td>\n",
              "      <td>-0.237141</td>\n",
              "      <td>-0.021541</td>\n",
              "      <td>0.267867</td>\n",
              "      <td>0.458123</td>\n",
              "      <td>-2.500186</td>\n",
              "      <td>0</td>\n",
              "    </tr>\n",
              "    <tr>\n",
              "      <th>8</th>\n",
              "      <td>-1.562436</td>\n",
              "      <td>2.256727</td>\n",
              "      <td>2.118415</td>\n",
              "      <td>1.330020</td>\n",
              "      <td>3.438690</td>\n",
              "      <td>0.267867</td>\n",
              "      <td>0.458123</td>\n",
              "      <td>-0.056761</td>\n",
              "      <td>1</td>\n",
              "    </tr>\n",
              "    <tr>\n",
              "      <th>9</th>\n",
              "      <td>1.676863</td>\n",
              "      <td>2.256727</td>\n",
              "      <td>2.118415</td>\n",
              "      <td>-1.804302</td>\n",
              "      <td>0.073260</td>\n",
              "      <td>0.267867</td>\n",
              "      <td>0.458123</td>\n",
              "      <td>0.903155</td>\n",
              "      <td>1</td>\n",
              "    </tr>\n",
              "    <tr>\n",
              "      <th>10</th>\n",
              "      <td>1.565163</td>\n",
              "      <td>-0.631481</td>\n",
              "      <td>-1.043469</td>\n",
              "      <td>-0.237141</td>\n",
              "      <td>-0.827349</td>\n",
              "      <td>0.267867</td>\n",
              "      <td>0.458123</td>\n",
              "      <td>-0.318557</td>\n",
              "      <td>0</td>\n",
              "    </tr>\n",
              "    <tr>\n",
              "      <th>11</th>\n",
              "      <td>-0.892237</td>\n",
              "      <td>-0.631481</td>\n",
              "      <td>0.537473</td>\n",
              "      <td>1.330020</td>\n",
              "      <td>1.353071</td>\n",
              "      <td>-3.733203</td>\n",
              "      <td>-2.182821</td>\n",
              "      <td>0.903155</td>\n",
              "      <td>1</td>\n",
              "    </tr>\n",
              "    <tr>\n",
              "      <th>12</th>\n",
              "      <td>1.230063</td>\n",
              "      <td>-0.631481</td>\n",
              "      <td>-0.252998</td>\n",
              "      <td>1.330020</td>\n",
              "      <td>0.215461</td>\n",
              "      <td>0.267867</td>\n",
              "      <td>0.458123</td>\n",
              "      <td>-0.667618</td>\n",
              "      <td>1</td>\n",
              "    </tr>\n",
              "    <tr>\n",
              "      <th>13</th>\n",
              "      <td>-0.668837</td>\n",
              "      <td>0.812623</td>\n",
              "      <td>0.537473</td>\n",
              "      <td>1.330020</td>\n",
              "      <td>-0.732548</td>\n",
              "      <td>0.267867</td>\n",
              "      <td>0.458123</td>\n",
              "      <td>-1.453004</td>\n",
              "      <td>1</td>\n",
              "    </tr>\n",
              "    <tr>\n",
              "      <th>14</th>\n",
              "      <td>0.894963</td>\n",
              "      <td>2.256727</td>\n",
              "      <td>2.118415</td>\n",
              "      <td>-0.237141</td>\n",
              "      <td>0.215461</td>\n",
              "      <td>0.267867</td>\n",
              "      <td>0.458123</td>\n",
              "      <td>-0.318557</td>\n",
              "      <td>1</td>\n",
              "    </tr>\n",
              "  </tbody>\n",
              "</table>\n",
              "</div>\n",
              "    <div class=\"colab-df-buttons\">\n",
              "\n",
              "  <div class=\"colab-df-container\">\n",
              "    <button class=\"colab-df-convert\" onclick=\"convertToInteractive('df-65a499d0-3c88-4bff-8fb1-5c8a53d504f6')\"\n",
              "            title=\"Convert this dataframe to an interactive table.\"\n",
              "            style=\"display:none;\">\n",
              "\n",
              "  <svg xmlns=\"http://www.w3.org/2000/svg\" height=\"24px\" viewBox=\"0 -960 960 960\">\n",
              "    <path d=\"M120-120v-720h720v720H120Zm60-500h600v-160H180v160Zm220 220h160v-160H400v160Zm0 220h160v-160H400v160ZM180-400h160v-160H180v160Zm440 0h160v-160H620v160ZM180-180h160v-160H180v160Zm440 0h160v-160H620v160Z\"/>\n",
              "  </svg>\n",
              "    </button>\n",
              "\n",
              "  <style>\n",
              "    .colab-df-container {\n",
              "      display:flex;\n",
              "      gap: 12px;\n",
              "    }\n",
              "\n",
              "    .colab-df-convert {\n",
              "      background-color: #E8F0FE;\n",
              "      border: none;\n",
              "      border-radius: 50%;\n",
              "      cursor: pointer;\n",
              "      display: none;\n",
              "      fill: #1967D2;\n",
              "      height: 32px;\n",
              "      padding: 0 0 0 0;\n",
              "      width: 32px;\n",
              "    }\n",
              "\n",
              "    .colab-df-convert:hover {\n",
              "      background-color: #E2EBFA;\n",
              "      box-shadow: 0px 1px 2px rgba(60, 64, 67, 0.3), 0px 1px 3px 1px rgba(60, 64, 67, 0.15);\n",
              "      fill: #174EA6;\n",
              "    }\n",
              "\n",
              "    .colab-df-buttons div {\n",
              "      margin-bottom: 4px;\n",
              "    }\n",
              "\n",
              "    [theme=dark] .colab-df-convert {\n",
              "      background-color: #3B4455;\n",
              "      fill: #D2E3FC;\n",
              "    }\n",
              "\n",
              "    [theme=dark] .colab-df-convert:hover {\n",
              "      background-color: #434B5C;\n",
              "      box-shadow: 0px 1px 3px 1px rgba(0, 0, 0, 0.15);\n",
              "      filter: drop-shadow(0px 1px 2px rgba(0, 0, 0, 0.3));\n",
              "      fill: #FFFFFF;\n",
              "    }\n",
              "  </style>\n",
              "\n",
              "    <script>\n",
              "      const buttonEl =\n",
              "        document.querySelector('#df-65a499d0-3c88-4bff-8fb1-5c8a53d504f6 button.colab-df-convert');\n",
              "      buttonEl.style.display =\n",
              "        google.colab.kernel.accessAllowed ? 'block' : 'none';\n",
              "\n",
              "      async function convertToInteractive(key) {\n",
              "        const element = document.querySelector('#df-65a499d0-3c88-4bff-8fb1-5c8a53d504f6');\n",
              "        const dataTable =\n",
              "          await google.colab.kernel.invokeFunction('convertToInteractive',\n",
              "                                                    [key], {});\n",
              "        if (!dataTable) return;\n",
              "\n",
              "        const docLinkHtml = 'Like what you see? Visit the ' +\n",
              "          '<a target=\"_blank\" href=https://colab.research.google.com/notebooks/data_table.ipynb>data table notebook</a>'\n",
              "          + ' to learn more about interactive tables.';\n",
              "        element.innerHTML = '';\n",
              "        dataTable['output_type'] = 'display_data';\n",
              "        await google.colab.output.renderOutput(dataTable, element);\n",
              "        const docLink = document.createElement('div');\n",
              "        docLink.innerHTML = docLinkHtml;\n",
              "        element.appendChild(docLink);\n",
              "      }\n",
              "    </script>\n",
              "  </div>\n",
              "\n",
              "\n",
              "<div id=\"df-501c532e-53a9-408d-b16b-57e3909f0624\">\n",
              "  <button class=\"colab-df-quickchart\" onclick=\"quickchart('df-501c532e-53a9-408d-b16b-57e3909f0624')\"\n",
              "            title=\"Suggest charts\"\n",
              "            style=\"display:none;\">\n",
              "\n",
              "<svg xmlns=\"http://www.w3.org/2000/svg\" height=\"24px\"viewBox=\"0 0 24 24\"\n",
              "     width=\"24px\">\n",
              "    <g>\n",
              "        <path d=\"M19 3H5c-1.1 0-2 .9-2 2v14c0 1.1.9 2 2 2h14c1.1 0 2-.9 2-2V5c0-1.1-.9-2-2-2zM9 17H7v-7h2v7zm4 0h-2V7h2v10zm4 0h-2v-4h2v4z\"/>\n",
              "    </g>\n",
              "</svg>\n",
              "  </button>\n",
              "\n",
              "<style>\n",
              "  .colab-df-quickchart {\n",
              "      --bg-color: #E8F0FE;\n",
              "      --fill-color: #1967D2;\n",
              "      --hover-bg-color: #E2EBFA;\n",
              "      --hover-fill-color: #174EA6;\n",
              "      --disabled-fill-color: #AAA;\n",
              "      --disabled-bg-color: #DDD;\n",
              "  }\n",
              "\n",
              "  [theme=dark] .colab-df-quickchart {\n",
              "      --bg-color: #3B4455;\n",
              "      --fill-color: #D2E3FC;\n",
              "      --hover-bg-color: #434B5C;\n",
              "      --hover-fill-color: #FFFFFF;\n",
              "      --disabled-bg-color: #3B4455;\n",
              "      --disabled-fill-color: #666;\n",
              "  }\n",
              "\n",
              "  .colab-df-quickchart {\n",
              "    background-color: var(--bg-color);\n",
              "    border: none;\n",
              "    border-radius: 50%;\n",
              "    cursor: pointer;\n",
              "    display: none;\n",
              "    fill: var(--fill-color);\n",
              "    height: 32px;\n",
              "    padding: 0;\n",
              "    width: 32px;\n",
              "  }\n",
              "\n",
              "  .colab-df-quickchart:hover {\n",
              "    background-color: var(--hover-bg-color);\n",
              "    box-shadow: 0 1px 2px rgba(60, 64, 67, 0.3), 0 1px 3px 1px rgba(60, 64, 67, 0.15);\n",
              "    fill: var(--button-hover-fill-color);\n",
              "  }\n",
              "\n",
              "  .colab-df-quickchart-complete:disabled,\n",
              "  .colab-df-quickchart-complete:disabled:hover {\n",
              "    background-color: var(--disabled-bg-color);\n",
              "    fill: var(--disabled-fill-color);\n",
              "    box-shadow: none;\n",
              "  }\n",
              "\n",
              "  .colab-df-spinner {\n",
              "    border: 2px solid var(--fill-color);\n",
              "    border-color: transparent;\n",
              "    border-bottom-color: var(--fill-color);\n",
              "    animation:\n",
              "      spin 1s steps(1) infinite;\n",
              "  }\n",
              "\n",
              "  @keyframes spin {\n",
              "    0% {\n",
              "      border-color: transparent;\n",
              "      border-bottom-color: var(--fill-color);\n",
              "      border-left-color: var(--fill-color);\n",
              "    }\n",
              "    20% {\n",
              "      border-color: transparent;\n",
              "      border-left-color: var(--fill-color);\n",
              "      border-top-color: var(--fill-color);\n",
              "    }\n",
              "    30% {\n",
              "      border-color: transparent;\n",
              "      border-left-color: var(--fill-color);\n",
              "      border-top-color: var(--fill-color);\n",
              "      border-right-color: var(--fill-color);\n",
              "    }\n",
              "    40% {\n",
              "      border-color: transparent;\n",
              "      border-right-color: var(--fill-color);\n",
              "      border-top-color: var(--fill-color);\n",
              "    }\n",
              "    60% {\n",
              "      border-color: transparent;\n",
              "      border-right-color: var(--fill-color);\n",
              "    }\n",
              "    80% {\n",
              "      border-color: transparent;\n",
              "      border-right-color: var(--fill-color);\n",
              "      border-bottom-color: var(--fill-color);\n",
              "    }\n",
              "    90% {\n",
              "      border-color: transparent;\n",
              "      border-bottom-color: var(--fill-color);\n",
              "    }\n",
              "  }\n",
              "</style>\n",
              "\n",
              "  <script>\n",
              "    async function quickchart(key) {\n",
              "      const quickchartButtonEl =\n",
              "        document.querySelector('#' + key + ' button');\n",
              "      quickchartButtonEl.disabled = true;  // To prevent multiple clicks.\n",
              "      quickchartButtonEl.classList.add('colab-df-spinner');\n",
              "      try {\n",
              "        const charts = await google.colab.kernel.invokeFunction(\n",
              "            'suggestCharts', [key], {});\n",
              "      } catch (error) {\n",
              "        console.error('Error during call to suggestCharts:', error);\n",
              "      }\n",
              "      quickchartButtonEl.classList.remove('colab-df-spinner');\n",
              "      quickchartButtonEl.classList.add('colab-df-quickchart-complete');\n",
              "    }\n",
              "    (() => {\n",
              "      let quickchartButtonEl =\n",
              "        document.querySelector('#df-501c532e-53a9-408d-b16b-57e3909f0624 button');\n",
              "      quickchartButtonEl.style.display =\n",
              "        google.colab.kernel.accessAllowed ? 'block' : 'none';\n",
              "    })();\n",
              "  </script>\n",
              "</div>\n",
              "\n",
              "    </div>\n",
              "  </div>\n"
            ],
            "application/vnd.google.colaboratory.intrinsic+json": {
              "type": "dataframe",
              "variable_name": "patients",
              "summary": "{\n  \"name\": \"patients\",\n  \"rows\": 4018,\n  \"fields\": [\n    {\n      \"column\": \"Age\",\n      \"properties\": {\n        \"dtype\": \"number\",\n        \"std\": 1.0001244632527098,\n        \"min\": -2.6794362776331226,\n        \"max\": 1.6768628716311436,\n        \"num_unique_values\": 41,\n        \"samples\": [\n          -1.3390365393979637,\n          -1.2273365612117006,\n          1.2300629588860907\n        ],\n        \"semantic_type\": \"\",\n        \"description\": \"\"\n      }\n    },\n    {\n      \"column\": \"N_Stage\",\n      \"properties\": {\n        \"dtype\": \"number\",\n        \"std\": 1.0001244632527397,\n        \"min\": -0.6314810121269945,\n        \"max\": 2.256726963657028,\n        \"num_unique_values\": 3,\n        \"samples\": [\n          -0.6314810121269945,\n          0.8126229757650166,\n          2.256726963657028\n        ],\n        \"semantic_type\": \"\",\n        \"description\": \"\"\n      }\n    },\n    {\n      \"column\": \"6th_Stage\",\n      \"properties\": {\n        \"dtype\": \"number\",\n        \"std\": 1.0001244632526907,\n        \"min\": -1.04346874982624,\n        \"max\": 2.118414686675896,\n        \"num_unique_values\": 5,\n        \"samples\": [\n          0.5374729684248281,\n          1.327943827550362,\n          2.118414686675896\n        ],\n        \"semantic_type\": \"\",\n        \"description\": \"\"\n      }\n    },\n    {\n      \"column\": \"Grade\",\n      \"properties\": {\n        \"dtype\": \"number\",\n        \"std\": 1.000124463252721,\n        \"min\": -1.804302192405374,\n        \"max\": 2.8971804334602504,\n        \"num_unique_values\": 4,\n        \"samples\": [\n          -0.23714131711683248,\n          2.8971804334602504,\n          1.330019558171709\n        ],\n        \"semantic_type\": \"\",\n        \"description\": \"\"\n      }\n    },\n    {\n      \"column\": \"Tumor_Load\",\n      \"properties\": {\n        \"dtype\": \"number\",\n        \"std\": 1.0001244632527013,\n        \"min\": -1.396153984122053,\n        \"max\": 5.192506512380928,\n        \"num_unique_values\": 110,\n        \"samples\": [\n          -1.396153984122053,\n          -0.8273487614023712,\n          0.49986342494355307\n        ],\n        \"semantic_type\": \"\",\n        \"description\": \"\"\n      }\n    },\n    {\n      \"column\": \"Estrogen_Levels\",\n      \"properties\": {\n        \"dtype\": \"number\",\n        \"std\": 1.0001244632526916,\n        \"min\": -3.7332027769701575,\n        \"max\": 0.2678665102707317,\n        \"num_unique_values\": 2,\n        \"samples\": [\n          -3.7332027769701575,\n          0.2678665102707317\n        ],\n        \"semantic_type\": \"\",\n        \"description\": \"\"\n      }\n    },\n    {\n      \"column\": \"Progesterone_Levels\",\n      \"properties\": {\n        \"dtype\": \"number\",\n        \"std\": 1.0001244632526876,\n        \"min\": -2.182820625326997,\n        \"max\": 0.45812284729085107,\n        \"num_unique_values\": 2,\n        \"samples\": [\n          -2.182820625326997,\n          0.45812284729085107\n        ],\n        \"semantic_type\": \"\",\n        \"description\": \"\"\n      }\n    },\n    {\n      \"column\": \"Progression_Free_Months\",\n      \"properties\": {\n        \"dtype\": \"number\",\n        \"std\": 1.000124463252704,\n        \"min\": -3.0674097108653307,\n        \"max\": 1.5576441362302138,\n        \"num_unique_values\": 107,\n        \"samples\": [\n          -2.8056142100863375,\n          -0.31855695268590334\n        ],\n        \"semantic_type\": \"\",\n        \"description\": \"\"\n      }\n    },\n    {\n      \"column\": \"Survival_Status\",\n      \"properties\": {\n        \"dtype\": \"number\",\n        \"std\": 0,\n        \"min\": 0,\n        \"max\": 1,\n        \"num_unique_values\": 2,\n        \"samples\": [\n          0,\n          1\n        ],\n        \"semantic_type\": \"\",\n        \"description\": \"\"\n      }\n    }\n  ]\n}"
            }
          },
          "metadata": {},
          "execution_count": 79
        }
      ]
    },
    {
      "cell_type": "markdown",
      "source": [
        "Code Reuse Session 2 - Step 4 Checking the Datatypes that are in the Breast Cancer Dataset like the number of entries, the column names, and the data types for each column. It's useful for spotting things like missing values or incorrect data types, which can help us know what kind of cleaning or adjustments i need to make before moving forward, or if the cleaning that i done in notebook 1 was done properly its a quick checl"
      ],
      "metadata": {
        "id": "x_K64X5S6xUE"
      }
    },
    {
      "cell_type": "code",
      "source": [
        "# I'm quickly checking the Datatypes in the Dataset\n",
        "patients.info()"
      ],
      "metadata": {
        "colab": {
          "base_uri": "https://localhost:8080/"
        },
        "collapsed": true,
        "id": "ifD6CCjjXOwS",
        "outputId": "7a24672e-cd7c-4645-9aed-17246410c44e"
      },
      "execution_count": 80,
      "outputs": [
        {
          "output_type": "stream",
          "name": "stdout",
          "text": [
            "<class 'pandas.core.frame.DataFrame'>\n",
            "RangeIndex: 4018 entries, 0 to 4017\n",
            "Data columns (total 9 columns):\n",
            " #   Column                   Non-Null Count  Dtype  \n",
            "---  ------                   --------------  -----  \n",
            " 0   Age                      4018 non-null   float64\n",
            " 1   N_Stage                  4018 non-null   float64\n",
            " 2   6th_Stage                4018 non-null   float64\n",
            " 3   Grade                    4018 non-null   float64\n",
            " 4   Tumor_Load               4018 non-null   float64\n",
            " 5   Estrogen_Levels          4018 non-null   float64\n",
            " 6   Progesterone_Levels      4018 non-null   float64\n",
            " 7   Progression_Free_Months  4018 non-null   float64\n",
            " 8   Survival_Status          4018 non-null   int64  \n",
            "dtypes: float64(8), int64(1)\n",
            "memory usage: 282.6 KB\n"
          ]
        }
      ]
    },
    {
      "cell_type": "markdown",
      "source": [
        "Code Reuse Session 2 - Step 5 Setting pandas display options to control the rows and columns in the dataset, by setting the maximum number of rows and columns shown and also the display width for better readibility"
      ],
      "metadata": {
        "id": "dR5ReG5f6_Vy"
      }
    },
    {
      "cell_type": "code",
      "source": [
        "# Reusing this (even though its already in notebook 1) to make sure no columns/rows are cut off when viewing data in this notebook\n",
        "# controlling the rows and columns truncation in the dataset\n",
        "\n",
        "pd.set_option('display.max_rows', 500)  # Setting the maximum number of rows displayed in the DataFrame output to 500\n",
        "\n",
        "pd.set_option('display.max_columns', 500) # Setting the maximum number of columns displayed in the DataFrame output to 500\n",
        "\n",
        "pd.set_option('display.width', 150) # Setting the display width of the DataFrame to 150 characters for better readability"
      ],
      "metadata": {
        "id": "1tDsoce5XQrl"
      },
      "execution_count": 81,
      "outputs": []
    },
    {
      "cell_type": "markdown",
      "source": [
        "Code Reuse Session 2 – Step 6 (Declaring Input Variables) - Here I’m choosing the input features that I want the model to learn from in order to predict the target, which is Survival Status. This step is important because it tells the model what information to use when learning patterns. These features include things like N Stage, Progesterone levels, Tumor Load, Estrogen Levels, Age and Progression Free Months. All of which could affect survival. This is the first step in preparing the data for training the classification models."
      ],
      "metadata": {
        "id": "6EH5jvce7qKy"
      }
    },
    {
      "cell_type": "code",
      "source": [
        "# I'm selecting the features I want to use for classification\n",
        "feature_cols = ['N_Stage','Progesterone_Levels', 'Tumor_Load','Estrogen_Levels', 'Age', 'Progression_Free_Months']\n",
        "\n",
        "# Setting X as the input features\n",
        "X = patients[feature_cols]\n",
        "\n",
        "# Setting y as the target variable I'm trying to predict, which is Survival Status (Alive or Dead)\n",
        "y = patients['Survival_Status']"
      ],
      "metadata": {
        "id": "Q6E8m4sNXSnS"
      },
      "execution_count": 82,
      "outputs": []
    },
    {
      "cell_type": "markdown",
      "source": [
        "Code Reuse Session 2 – Step 8 (Splitting the Dataset)\n",
        "In this step, I split my dataset into training and test sets using an 80/20 split. I chose this ratio because it gives the model enough data to learn from while still keeping a good portion aside for testing how well it performs. I also used stratify=y so that the Survival_Status classes (Alive and Dead) are balanced in both the training and test sets. This helps avoid bias and makes sure both sets represent the original class distribution fairly, which is really important in medical data like this."
      ],
      "metadata": {
        "id": "U8RWPGLF-IQ_"
      }
    },
    {
      "cell_type": "code",
      "source": [
        "# Splitting the dataset into a Train-test split (80/20) with stratify to keep Alive/Dead balance\n",
        "X_train, X_test, y_train, y_test = train_test_split(X, y, test_size=0.2, random_state=42, stratify=y)\n",
        "\n",
        "# Displaying the class distribution in both training and test sets\n",
        "print(\"Train set class ratio:\", y_train.value_counts(normalize=True))\n",
        "print(\"Test set class ratio:\", y_test.value_counts(normalize=True))"
      ],
      "metadata": {
        "id": "g1Qle4fsXbtu",
        "colab": {
          "base_uri": "https://localhost:8080/"
        },
        "outputId": "6d993f6f-b857-4501-e3be-86d884db58ef"
      },
      "execution_count": 83,
      "outputs": [
        {
          "output_type": "stream",
          "name": "stdout",
          "text": [
            "Train set class ratio: Survival_Status\n",
            "1    0.84692\n",
            "0    0.15308\n",
            "Name: proportion, dtype: float64\n",
            "Test set class ratio: Survival_Status\n",
            "1    0.847015\n",
            "0    0.152985\n",
            "Name: proportion, dtype: float64\n"
          ]
        }
      ]
    },
    {
      "cell_type": "markdown",
      "source": [
        "# LOGISTIC REGRESSION MODELLING"
      ],
      "metadata": {
        "id": "pgl8X_h4vDii"
      }
    },
    {
      "cell_type": "markdown",
      "source": [
        "Code Reuse Session 2 - Step 25 and Step 11 - Here I’m using GridSearchCV to tune my Logistic Regression model. I set up a grid of different values for things like regularisation strength (C), penalty types, solver options, and class weights to handle imbalance. GridSearch tries all the combinations using 5-fold cross-validation and scores them using weighted F1-score. This helps me find the best version of the model that performs well and handles my dataset properly. After it finishes, I print out the best parameters it found."
      ],
      "metadata": {
        "id": "T4qQcPIdh_8V"
      }
    },
    {
      "cell_type": "code",
      "source": [
        "# Hyperparameter Tuning for the Logistic Regression Model\n",
        "param_grid_lr = {\n",
        "    'C': np.logspace(-3, 3, 7),\n",
        "    'penalty': ['l1', 'l2'],\n",
        "    'solver': ['liblinear', 'saga'],\n",
        "    'class_weight': [None, 'balanced']\n",
        "}\n",
        "\n",
        "# I'm setting up GridSearchCV to tune the logistic regression model with cross-validation\n",
        "lr_gscv = GridSearchCV(\n",
        "    LogisticRegression(max_iter=1000, random_state=42),\n",
        "    param_grid_lr,\n",
        "    cv=5,\n",
        "    scoring='f1_weighted'\n",
        ")\n",
        "\n",
        "# I'm training the logistic regression model with the training data (Code Reuse Session Step 11)\n",
        "lr_gscv.fit(X_train, y_train)\n",
        "\n",
        "# Printing the best hyperparameters that were found\n",
        "print(\"Logistic Regression Best Parameters:\",lr_gscv.best_params_)"
      ],
      "metadata": {
        "id": "8PALjV1zybWi",
        "colab": {
          "base_uri": "https://localhost:8080/"
        },
        "outputId": "d9bbb451-0b44-482a-8cd1-7a1a81c9b6a0"
      },
      "execution_count": 84,
      "outputs": [
        {
          "output_type": "stream",
          "name": "stdout",
          "text": [
            "Logistic Regression Best Parameters: {'C': np.float64(1.0), 'class_weight': None, 'penalty': 'l2', 'solver': 'saga'}\n"
          ]
        }
      ]
    },
    {
      "cell_type": "markdown",
      "source": [
        "Code Reuse Session 2 – Step 25 (Best Hyperparameter Model from GridSearchCV)\n",
        "In this step, I’m using this line to grab the best Logistic Regression model found during the grid search. The best_lr variable now stores the model with the best combination of hyperparameters, based on cross-validation. I’ll use this version to make predictions and test how well it performs on the unseen test data."
      ],
      "metadata": {
        "id": "TOIIC-swjNuo"
      }
    },
    {
      "cell_type": "code",
      "source": [
        "best_lr = lr_gscv.best_estimator_ # I'm Saving the best version of the Logistic Regression model found by GridSearch so I can use it to make predictions"
      ],
      "metadata": {
        "id": "7oaNwRkRi8xB"
      },
      "execution_count": 85,
      "outputs": []
    },
    {
      "cell_type": "markdown",
      "source": [
        "Code Reuse Session - Step 12 - I'm using this line to make predictions with the best model (best_lr) that I found earlier. By calling .predict(X_test), it uses the model to predict the outcomes for the test data (X_test). The predictions are then stored in y_pred_lr."
      ],
      "metadata": {
        "id": "bt7OD_sOjw2k"
      }
    },
    {
      "cell_type": "code",
      "source": [
        "y_pred_lr = best_lr.predict(X_test) # I'm using the best logistic regression model to predict the labels for the test data"
      ],
      "metadata": {
        "id": "NDYQp5hWjsw7"
      },
      "execution_count": 86,
      "outputs": []
    },
    {
      "cell_type": "markdown",
      "source": [
        "Code Reuse Session 2 - Step 14 I created a comparison_df to compare the actual survival statuses (y_test) with the predicted ones (y_pred). This way, I can easily see how well the model did by looking at the differences between what it predicted and the real values. Printing this DataFrame helps me get a clear overview of how accurate the model's predictions are on the test data."
      ],
      "metadata": {
        "id": "mx-CdBqb_439"
      }
    },
    {
      "cell_type": "code",
      "source": [
        "#Comparing the actual vs predicted of patients\n",
        "comparison_df = pd.DataFrame({'Actual': y_test, 'Predicted': y_pred_lr})\n",
        "print(comparison_df)"
      ],
      "metadata": {
        "colab": {
          "base_uri": "https://localhost:8080/"
        },
        "id": "kCgT7k8QXhDv",
        "outputId": "fb7bbbef-5fc4-4335-866e-8c1c1394c5a9"
      },
      "execution_count": 87,
      "outputs": [
        {
          "output_type": "stream",
          "name": "stdout",
          "text": [
            "      Actual  Predicted\n",
            "3949       1          1\n",
            "197        1          1\n",
            "3243       0          1\n",
            "2049       1          1\n",
            "3241       1          1\n",
            "...      ...        ...\n",
            "1739       1          1\n",
            "106        0          0\n",
            "3919       1          1\n",
            "2698       1          1\n",
            "1984       1          1\n",
            "\n",
            "[804 rows x 2 columns]\n"
          ]
        }
      ]
    },
    {
      "cell_type": "markdown",
      "source": [
        "Code Reuse Step 12 - Here I’m using my best Logistic Regression model to make predictions on the training data. This helps me check how well the model learned from the patients it was trained on. I’ll later compare these predictions with the actual labels to measure the training accuracy and see if the model might be overfitting."
      ],
      "metadata": {
        "id": "YM4Xts-Yd4hA"
      }
    },
    {
      "cell_type": "code",
      "source": [
        "y_train_lr = best_lr.predict(X_train)  # I'm predicting the labels for my training data using the best logistic regression model"
      ],
      "metadata": {
        "id": "lq-vgbSNcXhU"
      },
      "execution_count": 88,
      "outputs": []
    },
    {
      "cell_type": "markdown",
      "source": [
        "Code Reuse Session 2 – Step 15 & 16 Code Reuse Session 2 – Step 16\n",
        "I’m checking how accurate my Logistic Regression model is on both the training and test sets. This helps me see if the model is overfitting or underfitting. High training accuracy but low test accuracy could mean overfitting, while similar scores would show that the model generalises well to new patient data."
      ],
      "metadata": {
        "id": "NVyfJr6vBH49"
      }
    },
    {
      "cell_type": "code",
      "source": [
        "# Checking Accuracy Scores of classification\n",
        "\n",
        "print(\"Logistic Regression Training Accuracy:\", accuracy_score(y_train, y_train_lr))  # here I'm checking how well my LR model did on the training data\n",
        "\n",
        "print(\"Logistic Regression Test Accuracy:\", accuracy_score(y_test, y_pred_lr))  # and here I'm checking how well my LR model performs on unseen test data"
      ],
      "metadata": {
        "colab": {
          "base_uri": "https://localhost:8080/"
        },
        "id": "pj3By_ezXi6O",
        "outputId": "916a05cd-4dba-4b99-8048-7f23756ad818"
      },
      "execution_count": 89,
      "outputs": [
        {
          "output_type": "stream",
          "name": "stdout",
          "text": [
            "Logistic Regression Training Accuracy: 0.8892345986309894\n",
            "Logistic Regression Test Accuracy: 0.9054726368159204\n"
          ]
        }
      ]
    },
    {
      "cell_type": "markdown",
      "source": [
        "Code Reuse Session 2 – Step 17 This code creates and shows the confusion matrix for my Logistic Regression model. It helps me compare the predicted survival status with the actual labels from the test set. This makes it easier to see where the model is making correct and incorrect predictions, especially for the Alive and Dead classes. I also added a title so it’s clear which model this matrix belongs to when shown in the report."
      ],
      "metadata": {
        "id": "G3V4zqleAwls"
      }
    },
    {
      "cell_type": "code",
      "source": [
        "# Generating the confusion matrix to evaluate how well the model classified the test data\n",
        "cm = confusion_matrix(y_test, y_pred_lr, labels=best_lr.classes_)\n",
        "\n",
        "# Creating a visual display of the confusion matrix with actual class labels\n",
        "disp = ConfusionMatrixDisplay(cm, display_labels=best_lr.classes_)\n",
        "\n",
        "disp.plot()  # Plotting the confusion matrix to visually compare predicted vs actual values\n",
        "\n",
        "plt.title(\"Logistic Regression Confusion Matrix\")  # Adding a title for clearer understanding of the plot"
      ],
      "metadata": {
        "colab": {
          "base_uri": "https://localhost:8080/",
          "height": 489
        },
        "id": "BvQ8E-c7XkyQ",
        "outputId": "4a38a721-45a0-491d-ac6a-e33ac13da9bc"
      },
      "execution_count": 90,
      "outputs": [
        {
          "output_type": "execute_result",
          "data": {
            "text/plain": [
              "Text(0.5, 1.0, 'Logistic Regression Confusion Matrix')"
            ]
          },
          "metadata": {},
          "execution_count": 90
        },
        {
          "output_type": "display_data",
          "data": {
            "text/plain": [
              "<Figure size 640x480 with 2 Axes>"
            ],
            "image/png": "[encoded data removed]"
          },
          "metadata": {}
        }
      ]
    },
    {
      "cell_type": "markdown",
      "source": [
        "Code Reuse Session 2 - Step 18 Displaying the Classificaton Report for Logistic Regression to get a detailed breakdown of the model's performance on the test data. It shows metrics like precision, recall, and F1-score, giving me a clearer idea of how well the model is handling both classes (survived vs. not survived)."
      ],
      "metadata": {
        "id": "Mz2WpJZMBVtf"
      }
    },
    {
      "cell_type": "code",
      "source": [
        "#Classification Report for LR\n",
        "\n",
        "print(\"Tuned Logistic Regression Classification Report:\")  # I'm printing a label just for readilbiltiy for the Logristic Regression model's performance\n",
        "\n",
        "print(classification_report(y_test, y_pred_lr)) # I'm displaying the detailed classification report for the tuned Logistic Regression Model on the test data"
      ],
      "metadata": {
        "colab": {
          "base_uri": "https://localhost:8080/"
        },
        "id": "HL0UjSNXXtYa",
        "outputId": "44303e3b-2242-4345-8dc6-63277ff79e15"
      },
      "execution_count": 91,
      "outputs": [
        {
          "output_type": "stream",
          "name": "stdout",
          "text": [
            "Tuned Logistic Regression Classification Report:\n",
            "              precision    recall  f1-score   support\n",
            "\n",
            "           0       0.82      0.49      0.61       123\n",
            "           1       0.91      0.98      0.95       681\n",
            "\n",
            "    accuracy                           0.91       804\n",
            "   macro avg       0.87      0.73      0.78       804\n",
            "weighted avg       0.90      0.91      0.90       804\n",
            "\n"
          ]
        }
      ]
    },
    {
      "cell_type": "markdown",
      "source": [
        "Code Reuse Session 2 – Step 19 - Here I plot the ROC curve for my Logistic Regression model to visually assess its ability to separate the two classes. The closer the curve gets to the top-left corner, the better the model’s performance"
      ],
      "metadata": {
        "id": "hmObtSTEBckg"
      }
    },
    {
      "cell_type": "code",
      "source": [
        "#Step 19 Adding ROC Curve and Displaying for the Logistic Regression to evaluate the model's class discrimination\n",
        "RocCurveDisplay.from_estimator(best_lr, X_test, y_test)\n",
        "\n",
        "plt.title(\"ROC Curve (Logistic Regression)\") # Making a title for the Roc Curve for readibility and clarity"
      ],
      "metadata": {
        "colab": {
          "base_uri": "https://localhost:8080/",
          "height": 489
        },
        "id": "CSJYwUPmXuQ8",
        "outputId": "05876a8c-db4e-4a23-b168-3648430ba073"
      },
      "execution_count": 92,
      "outputs": [
        {
          "output_type": "execute_result",
          "data": {
            "text/plain": [
              "Text(0.5, 1.0, 'ROC Curve (Logistic Regression)')"
            ]
          },
          "metadata": {},
          "execution_count": 92
        },
        {
          "output_type": "display_data",
          "data": {
            "text/plain": [
              "<Figure size 640x480 with 1 Axes>"
            ],
            "image/png": "[encoded data removed]"
          },
          "metadata": {}
        }
      ]
    },
    {
      "cell_type": "markdown",
      "source": [
        "# K-NEAREST NEIGHBORS MODELLING"
      ],
      "metadata": {
        "id": "o4N5vLsbvJkp"
      }
    },
    {
      "cell_type": "markdown",
      "source": [
        "Code Reuse Session 2 - Step 21,22,23 -(Declaring the KNN Model) I'm declaring the KNN (K-Nearest Neighbors) model with n_neighbors=5, meaning it will consider the 5 nearest data points to make predictions. Then, I'm training the model using the fit() method on the training data (X_train, y_train), so the model can learn from the patterns in the data and be ready to make predictions After that, I use the trained KNN model to predict the survival status for the test set, helping me see how well it performs on new patient data."
      ],
      "metadata": {
        "id": "gGSRusHvq9xX"
      }
    },
    {
      "cell_type": "code",
      "source": [
        "knn = KNeighborsClassifier(n_neighbors=12)  # I'm setting up my KNN model to use 12 nearest neighbours when making predictions\n",
        "\n",
        "knn.fit(X_train, y_train) # I'm training the model using my training data so it can learn how features relate to survival status\n",
        "\n",
        "y_pred_knn = knn.predict(X_test) # Now I'm using the trained KNN model to predict the survival status on the test set"
      ],
      "metadata": {
        "id": "cBZjGg5jq41q"
      },
      "execution_count": 93,
      "outputs": []
    },
    {
      "cell_type": "markdown",
      "source": [
        "Code Reuse Session 2 - Step 18 Displaying the Classificaton Report for k-nearest neighbor to get a detailed breakdown of the model's performance on the test data. It shows metrics like precision, recall, and F1-score, giving me a clearer idea of how well the model is handling both classes (survived vs. not survived)."
      ],
      "metadata": {
        "id": "jcjS4MwVXXIK"
      }
    },
    {
      "cell_type": "code",
      "source": [
        "# Classification Report for KNN\n",
        "\n",
        "print(\"KNN Classification Report\") # I'm printing a label just for readilbiltiy for the KNN model's performance\n",
        "\n",
        "print(classification_report(y_test, y_pred_knn))  # I'm displaying the detailed classification report for the tuned KNN on the test data"
      ],
      "metadata": {
        "colab": {
          "base_uri": "https://localhost:8080/"
        },
        "id": "FtLZv3jkz1lk",
        "outputId": "25434819-22e2-45d1-96f8-ca6f7a3ff379"
      },
      "execution_count": 94,
      "outputs": [
        {
          "output_type": "stream",
          "name": "stdout",
          "text": [
            "KNN Classification Report\n",
            "              precision    recall  f1-score   support\n",
            "\n",
            "           0       0.80      0.54      0.65       123\n",
            "           1       0.92      0.98      0.95       681\n",
            "\n",
            "    accuracy                           0.91       804\n",
            "   macro avg       0.86      0.76      0.80       804\n",
            "weighted avg       0.90      0.91      0.90       804\n",
            "\n"
          ]
        }
      ]
    },
    {
      "cell_type": "markdown",
      "source": [
        "Code Reuse Session 2 Step 17 (Confusion Matrix for KNN) I used this to show how well my KNN model is doing on the test data. The confusion matrix lets me see which classes the model is getting right and where it's making mistakes. It helps me understand the accuracy of my predictions better."
      ],
      "metadata": {
        "id": "_LYWUKSeYK7B"
      }
    },
    {
      "cell_type": "code",
      "source": [
        "# This line creates and displays a confusion matrix using the KNN model on the test data.\n",
        "# It helps visualize how well the model is classifying each class by comparing predictions with actual labels.\n",
        "\n",
        "cm = confusion_matrix(y_test, y_pred_knn, labels=knn.classes_)\n",
        "disp = ConfusionMatrixDisplay(cm, display_labels=knn.classes_)\n",
        "disp.plot()\n",
        "disp.ax_.set_title(\"K-Nearest Neighbour Confusion Matrix\")\n",
        "plt.show()"
      ],
      "metadata": {
        "colab": {
          "base_uri": "https://localhost:8080/",
          "height": 472
        },
        "id": "zyOTaK50tkPZ",
        "outputId": "f1cfe20e-c218-4415-ebd2-032f49e5bef7"
      },
      "execution_count": 95,
      "outputs": [
        {
          "output_type": "display_data",
          "data": {
            "text/plain": [
              "<Figure size 640x480 with 2 Axes>"
            ],
            "image/png": "[encoded data removed]"
          },
          "metadata": {}
        }
      ]
    },
    {
      "cell_type": "markdown",
      "source": [
        "Code Reuse Session 2 - Step 19 (Displaying the AUC-ROC for the KNN) This line generates and displays the ROC curve for my KNN model using the test data. The ROC curve helps me visualise how well the model can distinguish between classes, with the area under the curve showing its overall performance"
      ],
      "metadata": {
        "id": "ZOZjCNSsYwNT"
      }
    },
    {
      "cell_type": "code",
      "source": [
        "RocCurveDisplay.from_estimator(knn, X_test, y_test) # I'm displaying the ROC curve to evaluate my KNN model's performance\n",
        "\n",
        "plt.title(\"K-nearest Neighbour AUC-ROC Curve\")  # Setting a title for readility and clarity"
      ],
      "metadata": {
        "colab": {
          "base_uri": "https://localhost:8080/",
          "height": 489
        },
        "id": "7tLHUSCLz4S5",
        "outputId": "7c58604e-4749-4d21-b404-0fe448878a60"
      },
      "execution_count": 96,
      "outputs": [
        {
          "output_type": "execute_result",
          "data": {
            "text/plain": [
              "Text(0.5, 1.0, 'K-nearest Neighbour AUC-ROC Curve')"
            ]
          },
          "metadata": {},
          "execution_count": 96
        },
        {
          "output_type": "display_data",
          "data": {
            "text/plain": [
              "<Figure size 640x480 with 1 Axes>"
            ],
            "image/png": "[encoded data removed]"
          },
          "metadata": {}
        }
      ]
    },
    {
      "cell_type": "markdown",
      "source": [
        "Code Reuse session 2 - Step 18 (Making Relevant Predictions on the training data) - This line makes predictions on my training data using the KNN model. I need these predictions to check how well the model learned from the training set"
      ],
      "metadata": {
        "id": "jWR50DMKZ2uy"
      }
    },
    {
      "cell_type": "code",
      "source": [
        "y_train_knn = knn.predict(X_train)  # heres its predicting on the training data"
      ],
      "metadata": {
        "id": "lAyM_snQY_aN"
      },
      "execution_count": 97,
      "outputs": []
    },
    {
      "cell_type": "markdown",
      "source": [
        "Code Reuse Session steps 15 and 16 - Printing both the training and test accuracy of my KNN model - These two lines show how accurate my KNN model is on the training data and on the test data. This helps me see if my model is just memorizing the training data or if it actually performs well on new, unseen data."
      ],
      "metadata": {
        "id": "o089G0j1ZJ_L"
      }
    },
    {
      "cell_type": "code",
      "source": [
        "# These lines print the accuracy of the KNN model on both training and test data.\n",
        "\n",
        "print(\"KNN Training Accuracy:\", accuracy_score(y_train, y_train_knn))  # here I'm checking how well my KNN model did on the training data\n",
        "\n",
        "\n",
        "print(\"KNN Test Accuracy:\", accuracy_score(y_test, y_pred_knn))  # and here I'm checking how well my KNN model performs on unseen test data"
      ],
      "metadata": {
        "colab": {
          "base_uri": "https://localhost:8080/"
        },
        "id": "SYN10erD0nt2",
        "outputId": "ddb8068d-17a8-474c-ea9f-2944e0539c23"
      },
      "execution_count": 98,
      "outputs": [
        {
          "output_type": "stream",
          "name": "stdout",
          "text": [
            "KNN Training Accuracy: 0.8985687616677038\n",
            "KNN Test Accuracy: 0.9092039800995025\n"
          ]
        }
      ]
    },
    {
      "cell_type": "markdown",
      "source": [
        "# NAIVE BAYES MODELLING"
      ],
      "metadata": {
        "id": "xpIvvzdzvPKS"
      }
    },
    {
      "cell_type": "markdown",
      "source": [
        "Code Reuse Session 2 - Step 27 I'm declaring a Gaussian Naive Bayes model (nb) and training it using the fit() method on the training data (X_train, y_train). The Naive Bayes model is based on the assumption that the features follow a Gaussian (normal) distribution, and it learns the relationship between the features and the target variable so it can make predictions."
      ],
      "metadata": {
        "id": "I-h3ubXMsKkK"
      }
    },
    {
      "cell_type": "code",
      "source": [
        "# I'm creating a Naive Bayes model using the default GaussianNB class.\n",
        "nb = GaussianNB()\n",
        "\n",
        "# I'm training (fitting) my Naive Bayes model on the training data so it can learn from the patterns.\n",
        "nb.fit(X_train, y_train)"
      ],
      "metadata": {
        "colab": {
          "base_uri": "https://localhost:8080/",
          "height": 80
        },
        "id": "aTIfoWpNrXVM",
        "outputId": "653d0edb-50ee-4496-943f-d126b97018ed"
      },
      "execution_count": 99,
      "outputs": [
        {
          "output_type": "execute_result",
          "data": {
            "text/plain": [
              "GaussianNB()"
            ],
            "text/html": [
              "<style>#sk-container-id-3 {\n",
              "  /* Definition of color scheme common for light and dark mode */\n",
              "  --sklearn-color-text: #000;\n",
              "  --sklearn-color-text-muted: #666;\n",
              "  --sklearn-color-line: gray;\n",
              "  /* Definition of color scheme for unfitted estimators */\n",
              "  --sklearn-color-unfitted-level-0: #fff5e6;\n",
              "  --sklearn-color-unfitted-level-1: #f6e4d2;\n",
              "  --sklearn-color-unfitted-level-2: #ffe0b3;\n",
              "  --sklearn-color-unfitted-level-3: chocolate;\n",
              "  /* Definition of color scheme for fitted estimators */\n",
              "  --sklearn-color-fitted-level-0: #f0f8ff;\n",
              "  --sklearn-color-fitted-level-1: #d4ebff;\n",
              "  --sklearn-color-fitted-level-2: #b3dbfd;\n",
              "  --sklearn-color-fitted-level-3: cornflowerblue;\n",
              "\n",
              "  /* Specific color for light theme */\n",
              "  --sklearn-color-text-on-default-background: var(--sg-text-color, var(--theme-code-foreground, var(--jp-content-font-color1, black)));\n",
              "  --sklearn-color-background: var(--sg-background-color, var(--theme-background, var(--jp-layout-color0, white)));\n",
              "  --sklearn-color-border-box: var(--sg-text-color, var(--theme-code-foreground, var(--jp-content-font-color1, black)));\n",
              "  --sklearn-color-icon: #696969;\n",
              "\n",
              "  @media (prefers-color-scheme: dark) {\n",
              "    /* Redefinition of color scheme for dark theme */\n",
              "    --sklearn-color-text-on-default-background: var(--sg-text-color, var(--theme-code-foreground, var(--jp-content-font-color1, white)));\n",
              "    --sklearn-color-background: var(--sg-background-color, var(--theme-background, var(--jp-layout-color0, #111)));\n",
              "    --sklearn-color-border-box: var(--sg-text-color, var(--theme-code-foreground, var(--jp-content-font-color1, white)));\n",
              "    --sklearn-color-icon: #878787;\n",
              "  }\n",
              "}\n",
              "\n",
              "#sk-container-id-3 {\n",
              "  color: var(--sklearn-color-text);\n",
              "}\n",
              "\n",
              "#sk-container-id-3 pre {\n",
              "  padding: 0;\n",
              "}\n",
              "\n",
              "#sk-container-id-3 input.sk-hidden--visually {\n",
              "  border: 0;\n",
              "  clip: rect(1px 1px 1px 1px);\n",
              "  clip: rect(1px, 1px, 1px, 1px);\n",
              "  height: 1px;\n",
              "  margin: -1px;\n",
              "  overflow: hidden;\n",
              "  padding: 0;\n",
              "  position: absolute;\n",
              "  width: 1px;\n",
              "}\n",
              "\n",
              "#sk-container-id-3 div.sk-dashed-wrapped {\n",
              "  border: 1px dashed var(--sklearn-color-line);\n",
              "  margin: 0 0.4em 0.5em 0.4em;\n",
              "  box-sizing: border-box;\n",
              "  padding-bottom: 0.4em;\n",
              "  background-color: var(--sklearn-color-background);\n",
              "}\n",
              "\n",
              "#sk-container-id-3 div.sk-container {\n",
              "  /* jupyter's `normalize.less` sets `[hidden] { display: none; }`\n",
              "     but bootstrap.min.css set `[hidden] { display: none !important; }`\n",
              "     so we also need the `!important` here to be able to override the\n",
              "     default hidden behavior on the sphinx rendered scikit-learn.org.\n",
              "     See: https://github.com/scikit-learn/scikit-learn/issues/21755 */\n",
              "  display: inline-block !important;\n",
              "  position: relative;\n",
              "}\n",
              "\n",
              "#sk-container-id-3 div.sk-text-repr-fallback {\n",
              "  display: none;\n",
              "}\n",
              "\n",
              "div.sk-parallel-item,\n",
              "div.sk-serial,\n",
              "div.sk-item {\n",
              "  /* draw centered vertical line to link estimators */\n",
              "  background-image: linear-gradient(var(--sklearn-color-text-on-default-background), var(--sklearn-color-text-on-default-background));\n",
              "  background-size: 2px 100%;\n",
              "  background-repeat: no-repeat;\n",
              "  background-position: center center;\n",
              "}\n",
              "\n",
              "/* Parallel-specific style estimator block */\n",
              "\n",
              "#sk-container-id-3 div.sk-parallel-item::after {\n",
              "  content: \"\";\n",
              "  width: 100%;\n",
              "  border-bottom: 2px solid var(--sklearn-color-text-on-default-background);\n",
              "  flex-grow: 1;\n",
              "}\n",
              "\n",
              "#sk-container-id-3 div.sk-parallel {\n",
              "  display: flex;\n",
              "  align-items: stretch;\n",
              "  justify-content: center;\n",
              "  background-color: var(--sklearn-color-background);\n",
              "  position: relative;\n",
              "}\n",
              "\n",
              "#sk-container-id-3 div.sk-parallel-item {\n",
              "  display: flex;\n",
              "  flex-direction: column;\n",
              "}\n",
              "\n",
              "#sk-container-id-3 div.sk-parallel-item:first-child::after {\n",
              "  align-self: flex-end;\n",
              "  width: 50%;\n",
              "}\n",
              "\n",
              "#sk-container-id-3 div.sk-parallel-item:last-child::after {\n",
              "  align-self: flex-start;\n",
              "  width: 50%;\n",
              "}\n",
              "\n",
              "#sk-container-id-3 div.sk-parallel-item:only-child::after {\n",
              "  width: 0;\n",
              "}\n",
              "\n",
              "/* Serial-specific style estimator block */\n",
              "\n",
              "#sk-container-id-3 div.sk-serial {\n",
              "  display: flex;\n",
              "  flex-direction: column;\n",
              "  align-items: center;\n",
              "  background-color: var(--sklearn-color-background);\n",
              "  padding-right: 1em;\n",
              "  padding-left: 1em;\n",
              "}\n",
              "\n",
              "\n",
              "/* Toggleable style: style used for estimator/Pipeline/ColumnTransformer box that is\n",
              "clickable and can be expanded/collapsed.\n",
              "- Pipeline and ColumnTransformer use this feature and define the default style\n",
              "- Estimators will overwrite some part of the style using the `sk-estimator` class\n",
              "*/\n",
              "\n",
              "/* Pipeline and ColumnTransformer style (default) */\n",
              "\n",
              "#sk-container-id-3 div.sk-toggleable {\n",
              "  /* Default theme specific background. It is overwritten whether we have a\n",
              "  specific estimator or a Pipeline/ColumnTransformer */\n",
              "  background-color: var(--sklearn-color-background);\n",
              "}\n",
              "\n",
              "/* Toggleable label */\n",
              "#sk-container-id-3 label.sk-toggleable__label {\n",
              "  cursor: pointer;\n",
              "  display: flex;\n",
              "  width: 100%;\n",
              "  margin-bottom: 0;\n",
              "  padding: 0.5em;\n",
              "  box-sizing: border-box;\n",
              "  text-align: center;\n",
              "  align-items: start;\n",
              "  justify-content: space-between;\n",
              "  gap: 0.5em;\n",
              "}\n",
              "\n",
              "#sk-container-id-3 label.sk-toggleable__label .caption {\n",
              "  font-size: 0.6rem;\n",
              "  font-weight: lighter;\n",
              "  color: var(--sklearn-color-text-muted);\n",
              "}\n",
              "\n",
              "#sk-container-id-3 label.sk-toggleable__label-arrow:before {\n",
              "  /* Arrow on the left of the label */\n",
              "  content: \"▸\";\n",
              "  float: left;\n",
              "  margin-right: 0.25em;\n",
              "  color: var(--sklearn-color-icon);\n",
              "}\n",
              "\n",
              "#sk-container-id-3 label.sk-toggleable__label-arrow:hover:before {\n",
              "  color: var(--sklearn-color-text);\n",
              "}\n",
              "\n",
              "/* Toggleable content - dropdown */\n",
              "\n",
              "#sk-container-id-3 div.sk-toggleable__content {\n",
              "  max-height: 0;\n",
              "  max-width: 0;\n",
              "  overflow: hidden;\n",
              "  text-align: left;\n",
              "  /* unfitted */\n",
              "  background-color: var(--sklearn-color-unfitted-level-0);\n",
              "}\n",
              "\n",
              "#sk-container-id-3 div.sk-toggleable__content.fitted {\n",
              "  /* fitted */\n",
              "  background-color: var(--sklearn-color-fitted-level-0);\n",
              "}\n",
              "\n",
              "#sk-container-id-3 div.sk-toggleable__content pre {\n",
              "  margin: 0.2em;\n",
              "  border-radius: 0.25em;\n",
              "  color: var(--sklearn-color-text);\n",
              "  /* unfitted */\n",
              "  background-color: var(--sklearn-color-unfitted-level-0);\n",
              "}\n",
              "\n",
              "#sk-container-id-3 div.sk-toggleable__content.fitted pre {\n",
              "  /* unfitted */\n",
              "  background-color: var(--sklearn-color-fitted-level-0);\n",
              "}\n",
              "\n",
              "#sk-container-id-3 input.sk-toggleable__control:checked~div.sk-toggleable__content {\n",
              "  /* Expand drop-down */\n",
              "  max-height: 200px;\n",
              "  max-width: 100%;\n",
              "  overflow: auto;\n",
              "}\n",
              "\n",
              "#sk-container-id-3 input.sk-toggleable__control:checked~label.sk-toggleable__label-arrow:before {\n",
              "  content: \"▾\";\n",
              "}\n",
              "\n",
              "/* Pipeline/ColumnTransformer-specific style */\n",
              "\n",
              "#sk-container-id-3 div.sk-label input.sk-toggleable__control:checked~label.sk-toggleable__label {\n",
              "  color: var(--sklearn-color-text);\n",
              "  background-color: var(--sklearn-color-unfitted-level-2);\n",
              "}\n",
              "\n",
              "#sk-container-id-3 div.sk-label.fitted input.sk-toggleable__control:checked~label.sk-toggleable__label {\n",
              "  background-color: var(--sklearn-color-fitted-level-2);\n",
              "}\n",
              "\n",
              "/* Estimator-specific style */\n",
              "\n",
              "/* Colorize estimator box */\n",
              "#sk-container-id-3 div.sk-estimator input.sk-toggleable__control:checked~label.sk-toggleable__label {\n",
              "  /* unfitted */\n",
              "  background-color: var(--sklearn-color-unfitted-level-2);\n",
              "}\n",
              "\n",
              "#sk-container-id-3 div.sk-estimator.fitted input.sk-toggleable__control:checked~label.sk-toggleable__label {\n",
              "  /* fitted */\n",
              "  background-color: var(--sklearn-color-fitted-level-2);\n",
              "}\n",
              "\n",
              "#sk-container-id-3 div.sk-label label.sk-toggleable__label,\n",
              "#sk-container-id-3 div.sk-label label {\n",
              "  /* The background is the default theme color */\n",
              "  color: var(--sklearn-color-text-on-default-background);\n",
              "}\n",
              "\n",
              "/* On hover, darken the color of the background */\n",
              "#sk-container-id-3 div.sk-label:hover label.sk-toggleable__label {\n",
              "  color: var(--sklearn-color-text);\n",
              "  background-color: var(--sklearn-color-unfitted-level-2);\n",
              "}\n",
              "\n",
              "/* Label box, darken color on hover, fitted */\n",
              "#sk-container-id-3 div.sk-label.fitted:hover label.sk-toggleable__label.fitted {\n",
              "  color: var(--sklearn-color-text);\n",
              "  background-color: var(--sklearn-color-fitted-level-2);\n",
              "}\n",
              "\n",
              "/* Estimator label */\n",
              "\n",
              "#sk-container-id-3 div.sk-label label {\n",
              "  font-family: monospace;\n",
              "  font-weight: bold;\n",
              "  display: inline-block;\n",
              "  line-height: 1.2em;\n",
              "}\n",
              "\n",
              "#sk-container-id-3 div.sk-label-container {\n",
              "  text-align: center;\n",
              "}\n",
              "\n",
              "/* Estimator-specific */\n",
              "#sk-container-id-3 div.sk-estimator {\n",
              "  font-family: monospace;\n",
              "  border: 1px dotted var(--sklearn-color-border-box);\n",
              "  border-radius: 0.25em;\n",
              "  box-sizing: border-box;\n",
              "  margin-bottom: 0.5em;\n",
              "  /* unfitted */\n",
              "  background-color: var(--sklearn-color-unfitted-level-0);\n",
              "}\n",
              "\n",
              "#sk-container-id-3 div.sk-estimator.fitted {\n",
              "  /* fitted */\n",
              "  background-color: var(--sklearn-color-fitted-level-0);\n",
              "}\n",
              "\n",
              "/* on hover */\n",
              "#sk-container-id-3 div.sk-estimator:hover {\n",
              "  /* unfitted */\n",
              "  background-color: var(--sklearn-color-unfitted-level-2);\n",
              "}\n",
              "\n",
              "#sk-container-id-3 div.sk-estimator.fitted:hover {\n",
              "  /* fitted */\n",
              "  background-color: var(--sklearn-color-fitted-level-2);\n",
              "}\n",
              "\n",
              "/* Specification for estimator info (e.g. \"i\" and \"?\") */\n",
              "\n",
              "/* Common style for \"i\" and \"?\" */\n",
              "\n",
              ".sk-estimator-doc-link,\n",
              "a:link.sk-estimator-doc-link,\n",
              "a:visited.sk-estimator-doc-link {\n",
              "  float: right;\n",
              "  font-size: smaller;\n",
              "  line-height: 1em;\n",
              "  font-family: monospace;\n",
              "  background-color: var(--sklearn-color-background);\n",
              "  border-radius: 1em;\n",
              "  height: 1em;\n",
              "  width: 1em;\n",
              "  text-decoration: none !important;\n",
              "  margin-left: 0.5em;\n",
              "  text-align: center;\n",
              "  /* unfitted */\n",
              "  border: var(--sklearn-color-unfitted-level-1) 1pt solid;\n",
              "  color: var(--sklearn-color-unfitted-level-1);\n",
              "}\n",
              "\n",
              ".sk-estimator-doc-link.fitted,\n",
              "a:link.sk-estimator-doc-link.fitted,\n",
              "a:visited.sk-estimator-doc-link.fitted {\n",
              "  /* fitted */\n",
              "  border: var(--sklearn-color-fitted-level-1) 1pt solid;\n",
              "  color: var(--sklearn-color-fitted-level-1);\n",
              "}\n",
              "\n",
              "/* On hover */\n",
              "div.sk-estimator:hover .sk-estimator-doc-link:hover,\n",
              ".sk-estimator-doc-link:hover,\n",
              "div.sk-label-container:hover .sk-estimator-doc-link:hover,\n",
              ".sk-estimator-doc-link:hover {\n",
              "  /* unfitted */\n",
              "  background-color: var(--sklearn-color-unfitted-level-3);\n",
              "  color: var(--sklearn-color-background);\n",
              "  text-decoration: none;\n",
              "}\n",
              "\n",
              "div.sk-estimator.fitted:hover .sk-estimator-doc-link.fitted:hover,\n",
              ".sk-estimator-doc-link.fitted:hover,\n",
              "div.sk-label-container:hover .sk-estimator-doc-link.fitted:hover,\n",
              ".sk-estimator-doc-link.fitted:hover {\n",
              "  /* fitted */\n",
              "  background-color: var(--sklearn-color-fitted-level-3);\n",
              "  color: var(--sklearn-color-background);\n",
              "  text-decoration: none;\n",
              "}\n",
              "\n",
              "/* Span, style for the box shown on hovering the info icon */\n",
              ".sk-estimator-doc-link span {\n",
              "  display: none;\n",
              "  z-index: 9999;\n",
              "  position: relative;\n",
              "  font-weight: normal;\n",
              "  right: .2ex;\n",
              "  padding: .5ex;\n",
              "  margin: .5ex;\n",
              "  width: min-content;\n",
              "  min-width: 20ex;\n",
              "  max-width: 50ex;\n",
              "  color: var(--sklearn-color-text);\n",
              "  box-shadow: 2pt 2pt 4pt #999;\n",
              "  /* unfitted */\n",
              "  background: var(--sklearn-color-unfitted-level-0);\n",
              "  border: .5pt solid var(--sklearn-color-unfitted-level-3);\n",
              "}\n",
              "\n",
              ".sk-estimator-doc-link.fitted span {\n",
              "  /* fitted */\n",
              "  background: var(--sklearn-color-fitted-level-0);\n",
              "  border: var(--sklearn-color-fitted-level-3);\n",
              "}\n",
              "\n",
              ".sk-estimator-doc-link:hover span {\n",
              "  display: block;\n",
              "}\n",
              "\n",
              "/* \"?\"-specific style due to the `<a>` HTML tag */\n",
              "\n",
              "#sk-container-id-3 a.estimator_doc_link {\n",
              "  float: right;\n",
              "  font-size: 1rem;\n",
              "  line-height: 1em;\n",
              "  font-family: monospace;\n",
              "  background-color: var(--sklearn-color-background);\n",
              "  border-radius: 1rem;\n",
              "  height: 1rem;\n",
              "  width: 1rem;\n",
              "  text-decoration: none;\n",
              "  /* unfitted */\n",
              "  color: var(--sklearn-color-unfitted-level-1);\n",
              "  border: var(--sklearn-color-unfitted-level-1) 1pt solid;\n",
              "}\n",
              "\n",
              "#sk-container-id-3 a.estimator_doc_link.fitted {\n",
              "  /* fitted */\n",
              "  border: var(--sklearn-color-fitted-level-1) 1pt solid;\n",
              "  color: var(--sklearn-color-fitted-level-1);\n",
              "}\n",
              "\n",
              "/* On hover */\n",
              "#sk-container-id-3 a.estimator_doc_link:hover {\n",
              "  /* unfitted */\n",
              "  background-color: var(--sklearn-color-unfitted-level-3);\n",
              "  color: var(--sklearn-color-background);\n",
              "  text-decoration: none;\n",
              "}\n",
              "\n",
              "#sk-container-id-3 a.estimator_doc_link.fitted:hover {\n",
              "  /* fitted */\n",
              "  background-color: var(--sklearn-color-fitted-level-3);\n",
              "}\n",
              "</style><div id=\"sk-container-id-3\" class=\"sk-top-container\"><div class=\"sk-text-repr-fallback\"><pre>GaussianNB()</pre><b>In a Jupyter environment, please rerun this cell to show the HTML representation or trust the notebook. <br />On GitHub, the HTML representation is unable to render, please try loading this page with nbviewer.org.</b></div><div class=\"sk-container\" hidden><div class=\"sk-item\"><div class=\"sk-estimator fitted sk-toggleable\"><input class=\"sk-toggleable__control sk-hidden--visually\" id=\"sk-estimator-id-3\" type=\"checkbox\" checked><label for=\"sk-estimator-id-3\" class=\"sk-toggleable__label fitted sk-toggleable__label-arrow\"><div><div>GaussianNB</div></div><div><a class=\"sk-estimator-doc-link fitted\" rel=\"noreferrer\" target=\"_blank\" href=\"https://scikit-learn.org/1.6/modules/generated/sklearn.naive_bayes.GaussianNB.html\">?<span>Documentation for GaussianNB</span></a><span class=\"sk-estimator-doc-link fitted\">i<span>Fitted</span></span></div></label><div class=\"sk-toggleable__content fitted\"><pre>GaussianNB()</pre></div> </div></div></div></div>"
            ]
          },
          "metadata": {},
          "execution_count": 99
        }
      ]
    },
    {
      "cell_type": "markdown",
      "source": [
        "Code Reuse Session 2 step 13 - (Making predictions for test data) This line uses the Naive Bayes model to predict the labels for my test data. I’m doing this to see how well my model performs on new, unseen data"
      ],
      "metadata": {
        "id": "F7XzCfF9bLTl"
      }
    },
    {
      "cell_type": "code",
      "source": [
        "y_pred_nb = nb.predict(X_test) # I'm using my Naive Bayes model to predict the test data"
      ],
      "metadata": {
        "id": "OoVJQz2UaiYz"
      },
      "execution_count": 100,
      "outputs": []
    },
    {
      "cell_type": "markdown",
      "source": [
        "Code Reuse Session Step 12 (Predictions on training data) This line makes predictions on the training data using my Naive Bayes model. I want to check how well the model learned from the training set before testing it on new data."
      ],
      "metadata": {
        "id": "LLM3a5VdberG"
      }
    },
    {
      "cell_type": "code",
      "source": [
        "y_train_nb = nb.predict(X_train) # Predicting training labels with Naive Bayes"
      ],
      "metadata": {
        "id": "XmbngKKQz-I0"
      },
      "execution_count": 101,
      "outputs": []
    },
    {
      "cell_type": "markdown",
      "source": [
        "Code Reuse Session steps 15 and 16 - Printing both the training and test accuracy of my Naives Bayes model - These two lines show how accurate my Naive bayes model is on the training data and on the test data. This helps me see if my model is just memorizing the training data or if it actually performs well on new, unseen data."
      ],
      "metadata": {
        "id": "WqSrleXkbsBF"
      }
    },
    {
      "cell_type": "code",
      "source": [
        "# These lines print the accuracy of the Naives Bayes model on both training and test data.\n",
        "\n",
        "print(\"Naive Bayes Training Accuracy:\", accuracy_score(y_train, y_train_nb))  # here I'm checking how well my NB model did on the training data\n",
        "\n",
        "print(\"Naive Bayes Test Accuracy:\", accuracy_score(y_test, y_pred_nb)) # and here I'm checking how well my NB model performs on unseen test data"
      ],
      "metadata": {
        "colab": {
          "base_uri": "https://localhost:8080/"
        },
        "id": "c_lvBdzP0sCT",
        "outputId": "5c0d66a3-695f-4883-d650-38d7d18eb5c7"
      },
      "execution_count": 102,
      "outputs": [
        {
          "output_type": "stream",
          "name": "stdout",
          "text": [
            "Naive Bayes Training Accuracy: 0.8500311138767891\n",
            "Naive Bayes Test Accuracy: 0.8644278606965174\n"
          ]
        }
      ]
    },
    {
      "cell_type": "markdown",
      "source": [
        "Code Reuse Session 2 - Step 18 Displaying the Classificaton Report for Naives Bayes to get a detailed breakdown of the model's performance on the test data. It shows metrics like precision, recall, and F1-score, giving me a clearer idea of how well the model is handling both classes (survived vs. Deceased)."
      ],
      "metadata": {
        "id": "KdqDof8lXLBV"
      }
    },
    {
      "cell_type": "code",
      "source": [
        "# Classification Report for NB\n",
        "\n",
        "print(\"Naives Bayes Model's  Classification Report\") # I'm printing a label just for readilbiltiy for the Naive Bayes model's performance\n",
        "\n",
        "print(classification_report(y_test, y_pred_nb)) # I'm displaying the detailed classification report for the Naives Bayes on the test data"
      ],
      "metadata": {
        "colab": {
          "base_uri": "https://localhost:8080/"
        },
        "id": "ii6m5I5Ez-2E",
        "outputId": "d18c1476-2293-46a6-fd03-fa3aabb9356a"
      },
      "execution_count": 103,
      "outputs": [
        {
          "output_type": "stream",
          "name": "stdout",
          "text": [
            "Naives Bayes Model's  Classification Report\n",
            "              precision    recall  f1-score   support\n",
            "\n",
            "           0       0.56      0.52      0.54       123\n",
            "           1       0.91      0.93      0.92       681\n",
            "\n",
            "    accuracy                           0.86       804\n",
            "   macro avg       0.74      0.72      0.73       804\n",
            "weighted avg       0.86      0.86      0.86       804\n",
            "\n"
          ]
        }
      ]
    },
    {
      "cell_type": "markdown",
      "source": [
        "Code Reuse Session 2 Step 17 (Confusion Matrix for Naives Bayes) I used this to check how my Naive Bayes model is performing on the test set. The confusion matrix helps me see where the model is making correct predictions and where it's getting confused. It gives me a clear picture of its accuracy."
      ],
      "metadata": {
        "id": "_0kJDyKDYZMf"
      }
    },
    {
      "cell_type": "code",
      "source": [
        "# This line shows the confusion matrix for my Naive Bayes model using the test data.\n",
        "# It helps me see how well the model is predicting each class by comparing actual vs predicted labels.\n",
        "cm = confusion_matrix(y_test, y_pred_nb, labels=nb.classes_)\n",
        "disp = ConfusionMatrixDisplay(cm, display_labels=nb.classes_)\n",
        "disp.plot()\n",
        "disp.ax_.set_title(\"Naive Bayes Confusion Matrix\")\n",
        "plt.show()"
      ],
      "metadata": {
        "colab": {
          "base_uri": "https://localhost:8080/",
          "height": 472
        },
        "id": "fVOnc5VktuPV",
        "outputId": "22f4260a-27bb-4076-c26a-03bba814e13a"
      },
      "execution_count": 104,
      "outputs": [
        {
          "output_type": "display_data",
          "data": {
            "text/plain": [
              "<Figure size 640x480 with 2 Axes>"
            ],
            "image/png": "[encoded data removed]"
          },
          "metadata": {}
        }
      ]
    },
    {
      "cell_type": "markdown",
      "source": [
        "Code Reuse Session 2 - Step 19 (Displaying the AUC-ROC for my Naive bayes Model) This line generates and displays the ROC curve for my NB model using the test data. The ROC curve helps me visualise how well the model can distinguish between classes, with the area under the curve showing its overall performance."
      ],
      "metadata": {
        "id": "gjvkBT_QY1Az"
      }
    },
    {
      "cell_type": "code",
      "source": [
        "RocCurveDisplay.from_estimator(nb, X_test, y_test)  # I'm displaying the ROC curve to evaluate my Naives Bayes model's performance\n",
        "plt.title(\"Naive Bayes AUC-ROC Curve\")  # Setting a Title for Readility (Also for the report)"
      ],
      "metadata": {
        "colab": {
          "base_uri": "https://localhost:8080/",
          "height": 489
        },
        "id": "wuG_fTtk0EwT",
        "outputId": "7015a0a8-8607-4da0-c70b-be16a938d150"
      },
      "execution_count": 105,
      "outputs": [
        {
          "output_type": "execute_result",
          "data": {
            "text/plain": [
              "Text(0.5, 1.0, 'Naive Bayes AUC-ROC Curve')"
            ]
          },
          "metadata": {},
          "execution_count": 105
        },
        {
          "output_type": "display_data",
          "data": {
            "text/plain": [
              "<Figure size 640x480 with 1 Axes>"
            ],
            "image/png": "[encoded data removed]"
          },
          "metadata": {}
        }
      ]
    }
  ]
}